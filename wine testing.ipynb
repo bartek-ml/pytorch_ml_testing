{
 "cells": [
  {
   "cell_type": "code",
   "execution_count": 21,
   "metadata": {},
   "outputs": [],
   "source": [
    "import numpy as np\n",
    "import torch\n",
    "import csv\n",
    "import torch.nn as nn\n",
    "import torch.nn.functional as F\n",
    "from torch.utils.data import DataLoader, TensorDataset, random_split\n",
    "torch.set_printoptions(edgeitems=5, precision=2, linewidth=75)"
   ]
  },
  {
   "cell_type": "code",
   "execution_count": 22,
   "metadata": {},
   "outputs": [],
   "source": [
    "wine_path = \"/home/bartek/dlwpt-code-master/data/p1ch4/tabular-wine/winequality-white.csv\"\n",
    "wine_numpy = np.loadtxt(wine_path, dtype=np.float32, delimiter=\";\",skiprows=1)"
   ]
  },
  {
   "cell_type": "code",
   "execution_count": 23,
   "metadata": {},
   "outputs": [],
   "source": [
    "col_list = next(csv.reader(open(wine_path),delimiter=\";\"))\n",
    "\n",
    "wineq=torch.from_numpy(wine_numpy)\n",
    "data=wineq[:,:-1]\n",
    "target=wineq[:,-1]\n",
    "target=target.long()\n",
    "\n",
    "target_onehot=torch.zeros(target.shape[0],10)\n",
    "target_onehot=torch.zeros(target.shape[0],10)\n",
    "target=target.unsqueeze(1)\n",
    "target_onehot.scatter_(1,target,1)\n",
    "\n",
    "data_mean=torch.mean(data,dim=0)\n",
    "data_var=torch.var(data,dim=0)\n",
    "data_normalized=(data-data_mean)/torch.sqrt(data_var)\n",
    "data_normalized.shape\n",
    "\n",
    "x = data_normalized.clone().detach().requires_grad_(True)\n",
    "x = x.to(device='cuda')\n",
    "\n",
    "y = target_onehot.clone().detach().requires_grad_(True)\n",
    "y = y.to(device = 'cuda')"
   ]
  },
  {
   "cell_type": "code",
   "execution_count": 24,
   "metadata": {},
   "outputs": [],
   "source": [
    "avg_y =sum(target)/len(target)"
   ]
  },
  {
   "cell_type": "code",
   "execution_count": 25,
   "metadata": {},
   "outputs": [],
   "source": [
    "dataset = TensorDataset(x, y)\n",
    "train_ds, val_ds = torch.utils.data.random_split(dataset,[4000,898])\n",
    "batch_size=4898\n",
    "train_loader = DataLoader(train_ds,batch_size,shuffle=False)\n",
    "val_loader = DataLoader(val_ds,batch_size)"
   ]
  },
  {
   "cell_type": "code",
   "execution_count": 26,
   "metadata": {},
   "outputs": [],
   "source": [
    "class Net(nn.Module):\n",
    "    def __init__(self):\n",
    "        \n",
    "        self.device = torch.device(\"cuda\")\n",
    "        super(Net, self).__init__()\n",
    "        self.input_linear=nn.Linear(11,25)\n",
    "        self.midle_linear1=nn.Linear(25,50)\n",
    "        self.midle_linear9=nn.Linear(50,25)\n",
    "        self.output_linear=nn.Linear(25,10)\n",
    "    \n",
    "    def forward(self, x):\n",
    "        h_relu = self.input_linear(x)\n",
    "        h_relu = torch.relu(self.midle_linear1(h_relu))\n",
    "        h_relu = torch.relu(self.midle_linear9(h_relu))\n",
    "        y_pred = self.output_linear(h_relu)\n",
    "\n",
    "        return y_pred"
   ]
  },
  {
   "cell_type": "code",
   "execution_count": 27,
   "metadata": {},
   "outputs": [],
   "source": [
    "model = Net().to(device=\"cuda\")\n",
    "criterion = torch.nn.MSELoss(reduction='sum')\n",
    "optimizer = torch.optim.SGD(model.parameters(), lr=0.0001)"
   ]
  },
  {
   "cell_type": "code",
   "execution_count": 28,
   "metadata": {},
   "outputs": [],
   "source": [
    "pozytywne = 0\n",
    "suma = 0\n",
    "target = target.to(device='cuda')"
   ]
  },
  {
   "cell_type": "code",
   "execution_count": 29,
   "metadata": {},
   "outputs": [],
   "source": [
    "def train(n_epoch,train_loader, avg_y):\n",
    "    for epoch in range(n_epoch):\n",
    "        for wine_x, wine_y in train_loader:\n",
    "            batch_size = wine_x.shape[0]\n",
    "            y_pred = model(wine_x.view(batch_size,-1))\n",
    "            loss = criterion(y_pred,wine_y)\n",
    "\n",
    "            optimizer.zero_grad()\n",
    "            loss.backward()\n",
    "            optimizer.step()\n",
    "\n",
    "        y_pred_max=torch.argmax(y_pred, dim=1).unsqueeze(1).to(device='cuda')\n",
    "        y_pred_onehot=torch.zeros(y_pred_max.shape[0],10).to(device='cuda')\n",
    "        y_pred_onehot.scatter_(1,y_pred_max,1)\n",
    "        bledy = sum(sum(torch.abs(y_pred_onehot-wine_y)))/2\n",
    "\n",
    "        if epoch%5 == 0 or epoch == n_epoch-1:\n",
    "            print(\"epoch = %d, loss = %d, blad = %d\" % (epoch, int(loss.item()), int(bledy.item())))\n",
    "        if epoch == n_epoch-1:\n",
    "            print(\"avg loss = %f%%\" % (int(loss.item())/y_pred_max.shape[0]/avg_y*100))"
   ]
  },
  {
   "cell_type": "code",
   "execution_count": 30,
   "metadata": {},
   "outputs": [],
   "source": [
    "with torch.no_grad():\n",
    "    def test(val_loader,avg_y):\n",
    "        for wine_x, wine_y in val_loader:\n",
    "            batch_size = wine_x.shape[0]\n",
    "            y_pred = model(wine_x.view(batch_size,-1))\n",
    "            loss = criterion(y_pred,wine_y)\n",
    "\n",
    "        y_pred_max=torch.argmax(y_pred, dim=1).unsqueeze(1).to(device='cuda')\n",
    "        y_pred_onehot=torch.zeros(y_pred_max.shape[0],10).to(device='cuda')\n",
    "        y_pred_onehot.scatter_(1,y_pred_max,1)\n",
    "        bledy = sum(sum(torch.abs(y_pred_onehot-wine_y)))/2\n",
    "\n",
    "        print(\"loss = %d, blad = %d\" % (int(loss.item()), int(bledy.item())))\n",
    "        print(\"avg loss = %f%%\" % (int(loss.item())/y_pred_max.shape[0]/avg_y*100))"
   ]
  },
  {
   "cell_type": "code",
   "execution_count": 31,
   "metadata": {},
   "outputs": [
    {
     "name": "stdout",
     "output_type": "stream",
     "text": [
      "epoch = 0, loss = 5179, blad = 3930\n",
      "epoch = 5, loss = 2644, blad = 2200\n",
      "epoch = 10, loss = 2563, blad = 2093\n",
      "epoch = 15, loss = 2502, blad = 1962\n",
      "epoch = 20, loss = 2460, blad = 1899\n",
      "epoch = 25, loss = 2434, blad = 1856\n",
      "epoch = 29, loss = 2419, blad = 1830\n",
      "avg loss = 10.288523%\n"
     ]
    }
   ],
   "source": [
    "n_epoch = 30\n",
    "train(n_epoch,train_loader,avg_y)"
   ]
  },
  {
   "cell_type": "code",
   "execution_count": 32,
   "metadata": {},
   "outputs": [
    {
     "ename": "NameError",
     "evalue": "name 'y_pred_max' is not defined",
     "output_type": "error",
     "traceback": [
      "\u001b[0;31m---------------------------------------------------------------------------\u001b[0m",
      "\u001b[0;31mNameError\u001b[0m                                 Traceback (most recent call last)",
      "\u001b[0;32m<ipython-input-32-0c9142f7cb36>\u001b[0m in \u001b[0;36m<module>\u001b[0;34m\u001b[0m\n\u001b[0;32m----> 1\u001b[0;31m \u001b[0mthird_tensor\u001b[0m \u001b[0;34m=\u001b[0m \u001b[0mtorch\u001b[0m\u001b[0;34m.\u001b[0m\u001b[0mcat\u001b[0m\u001b[0;34m(\u001b[0m\u001b[0;34m(\u001b[0m\u001b[0my_pred_max\u001b[0m\u001b[0;34m,\u001b[0m \u001b[0mtorch\u001b[0m\u001b[0;34m.\u001b[0m\u001b[0margmax\u001b[0m\u001b[0;34m(\u001b[0m\u001b[0mwine_y\u001b[0m\u001b[0;34m,\u001b[0m\u001b[0;36m1\u001b[0m\u001b[0;34m)\u001b[0m\u001b[0;34m.\u001b[0m\u001b[0munsqueeze\u001b[0m\u001b[0;34m(\u001b[0m\u001b[0;36m1\u001b[0m\u001b[0;34m)\u001b[0m\u001b[0;34m)\u001b[0m\u001b[0;34m,\u001b[0m \u001b[0;36m1\u001b[0m\u001b[0;34m)\u001b[0m\u001b[0;34m\u001b[0m\u001b[0;34m\u001b[0m\u001b[0m\n\u001b[0m\u001b[1;32m      2\u001b[0m \u001b[0mthird_tensor\u001b[0m \u001b[0;34m=\u001b[0m \u001b[0mthird_tensor\u001b[0m\u001b[0;34m.\u001b[0m\u001b[0mto\u001b[0m\u001b[0;34m(\u001b[0m\u001b[0mdevice\u001b[0m \u001b[0;34m=\u001b[0m \u001b[0;34m'cpu'\u001b[0m\u001b[0;34m)\u001b[0m\u001b[0;34m\u001b[0m\u001b[0;34m\u001b[0m\u001b[0m\n\u001b[1;32m      3\u001b[0m \u001b[0mthird_tensor_np\u001b[0m \u001b[0;34m=\u001b[0m \u001b[0mthird_tensor\u001b[0m\u001b[0;34m.\u001b[0m\u001b[0mnumpy\u001b[0m\u001b[0;34m(\u001b[0m\u001b[0;34m)\u001b[0m\u001b[0;34m\u001b[0m\u001b[0;34m\u001b[0m\u001b[0m\n\u001b[1;32m      4\u001b[0m \u001b[0mthird_tensor_df\u001b[0m \u001b[0;34m=\u001b[0m \u001b[0mpd\u001b[0m\u001b[0;34m.\u001b[0m\u001b[0mDataFrame\u001b[0m\u001b[0;34m(\u001b[0m\u001b[0mthird_tensor_np\u001b[0m\u001b[0;34m)\u001b[0m\u001b[0;34m\u001b[0m\u001b[0;34m\u001b[0m\u001b[0m\n\u001b[1;32m      5\u001b[0m \u001b[0mthird_tensor_df\u001b[0m\u001b[0;34m.\u001b[0m\u001b[0mcolumns\u001b[0m\u001b[0;34m=\u001b[0m\u001b[0;34m[\u001b[0m\u001b[0;34m\"y_pred_max\"\u001b[0m\u001b[0;34m,\u001b[0m\u001b[0;34m\"torch.argmax(wine_y,1).unsqueeze(1)\"\u001b[0m\u001b[0;34m]\u001b[0m\u001b[0;34m\u001b[0m\u001b[0;34m\u001b[0m\u001b[0m\n",
      "\u001b[0;31mNameError\u001b[0m: name 'y_pred_max' is not defined"
     ]
    }
   ],
   "source": [
    "third_tensor = torch.cat((y_pred_max, torch.argmax(wine_y,1).unsqueeze(1)), 1)\n",
    "third_tensor = third_tensor.to(device = 'cpu')\n",
    "third_tensor_np = third_tensor.numpy()\n",
    "third_tensor_df = pd.DataFrame(third_tensor_np)\n",
    "third_tensor_df.columns=[\"y_pred_max\",\"torch.argmax(wine_y,1).unsqueeze(1)\"]\n",
    "third_tensor_df.to_csv('/home/bartek/third_tensor.csv')"
   ]
  },
  {
   "cell_type": "code",
   "execution_count": null,
   "metadata": {},
   "outputs": [],
   "source": [
    "test(val_loader,avg_y)"
   ]
  }
 ],
 "metadata": {
  "kernelspec": {
   "display_name": "Python 3",
   "language": "python",
   "name": "python3"
  },
  "language_info": {
   "codemirror_mode": {
    "name": "ipython",
    "version": 3
   },
   "file_extension": ".py",
   "mimetype": "text/x-python",
   "name": "python",
   "nbconvert_exporter": "python",
   "pygments_lexer": "ipython3",
   "version": "3.8.3"
  }
 },
 "nbformat": 4,
 "nbformat_minor": 4
}
