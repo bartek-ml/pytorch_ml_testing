{
 "cells": [
  {
   "cell_type": "code",
   "execution_count": 100,
   "metadata": {},
   "outputs": [],
   "source": [
    "import numpy as np\n",
    "import pandas as pd\n",
    "import torch\n",
    "import csv\n",
    "import torch.nn as nn\n",
    "import torch.nn.functional as F\n",
    "from torch.utils.data import DataLoader, TensorDataset, random_split\n",
    "torch.set_printoptions(edgeitems=5, precision=2, linewidth=75)"
   ]
  },
  {
   "cell_type": "code",
   "execution_count": 101,
   "metadata": {},
   "outputs": [],
   "source": [
    "wine_path = \"/home/bartek/dlwpt-code-master/data/data-unversioned/winequality-red.csv\"\n",
    "wine_numpy = np.loadtxt(wine_path, dtype=np.float32, delimiter=\",\",skiprows=1)"
   ]
  },
  {
   "cell_type": "code",
   "execution_count": 102,
   "metadata": {},
   "outputs": [],
   "source": [
    "col_list = next(csv.reader(open(wine_path),delimiter=\";\"))\n",
    "\n",
    "wineq=torch.from_numpy(wine_numpy)\n",
    "data=wineq[:,:-1]\n",
    "target=wineq[:,-1]\n",
    "target=target.long()\n",
    "\n",
    "target_onehot=torch.zeros(target.shape[0],10)\n",
    "target_onehot=torch.zeros(target.shape[0],10)\n",
    "target=target.unsqueeze(1)\n",
    "target_onehot.scatter_(1,target,1)\n",
    "\n",
    "data_mean=torch.mean(data,dim=0)\n",
    "data_var=torch.var(data,dim=0)\n",
    "data_normalized=(data-data_mean)/torch.sqrt(data_var)\n",
    "data_normalized.shape\n",
    "\n",
    "x = data_normalized.clone().detach().requires_grad_(True)\n",
    "x = x.to(device='cuda')\n",
    "\n",
    "y = target_onehot.clone().detach().requires_grad_(True)\n",
    "y = y.to(device = 'cuda')"
   ]
  },
  {
   "cell_type": "code",
   "execution_count": 103,
   "metadata": {},
   "outputs": [],
   "source": [
    "dataset = TensorDataset(x, y)\n",
    "train_ds, val_ds = torch.utils.data.random_split(dataset,[int(wineq.shape[0]*0.85),wineq.shape[0]-int(wineq.shape[0]*0.85)])\n",
    "batch_size=wineq.shape[0]\n",
    "train_loader = DataLoader(train_ds,batch_size,shuffle=False)\n",
    "val_loader = DataLoader(val_ds,batch_size)"
   ]
  },
  {
   "cell_type": "code",
   "execution_count": 104,
   "metadata": {},
   "outputs": [],
   "source": [
    "class Net(nn.Module):\n",
    "    def __init__(self):\n",
    "        \n",
    "        self.device = torch.device(\"cuda\")\n",
    "        super(Net, self).__init__()\n",
    "        self.input_linear=nn.Linear(11,25)\n",
    "        self.midle_linear1=nn.Linear(25,50)\n",
    "        self.midle_linear9=nn.Linear(50,25)\n",
    "        self.output_linear=nn.Linear(25,10)\n",
    "    \n",
    "    def forward(self, x):\n",
    "        h_relu = self.input_linear(x)\n",
    "        h_relu = torch.relu(self.midle_linear1(h_relu))\n",
    "        h_relu = torch.relu(self.midle_linear9(h_relu))\n",
    "        y_pred = self.output_linear(h_relu)\n",
    "\n",
    "        return y_pred"
   ]
  },
  {
   "cell_type": "code",
   "execution_count": 105,
   "metadata": {},
   "outputs": [],
   "source": [
    "model = Net().to(device=\"cuda\")\n",
    "criterion = torch.nn.MSELoss(reduction='sum')\n",
    "optimizer = torch.optim.SGD(model.parameters(), lr=0.0001)"
   ]
  },
  {
   "cell_type": "code",
   "execution_count": 106,
   "metadata": {},
   "outputs": [],
   "source": [
    "def train(n_epoch,train_loader, avg_y):\n",
    "    for epoch in range(n_epoch):\n",
    "        for wine_x, wine_y in train_loader:\n",
    "            batch_size = wine_x.shape[0]\n",
    "            y_pred = model(wine_x.view(batch_size,-1))\n",
    "            loss = criterion(y_pred,wine_y)\n",
    "\n",
    "            optimizer.zero_grad()\n",
    "            loss.backward()\n",
    "            optimizer.step()\n",
    "\n",
    "        y_pred_max=torch.argmax(y_pred, dim=1).unsqueeze(1).to(device='cuda')\n",
    "        y_pred_onehot=torch.zeros(y_pred_max.shape[0],10).to(device='cuda')\n",
    "        y_pred_onehot.scatter_(1,y_pred_max,1)\n",
    "        bledy = sum(sum(torch.abs(y_pred_onehot-wine_y)))/2\n",
    "\n",
    "        if epoch%20 == 0 or epoch == n_epoch-1 or epoch == 2 or epoch == 3 or epoch == 4:\n",
    "            print(\"epoch = %d, loss = %d, blad = %d\" % (epoch, int(loss.item()), int(bledy.item())))\n",
    "        if epoch == n_epoch-1:\n",
    "            print(\"avg loss = %f%%\" % (int(loss.item())/y_pred_max.shape[0]/avg_y*100))\n",
    "            third_tensor = torch.cat((y_pred_max, torch.argmax(wine_y,1).unsqueeze(1)), 1)\n",
    "            third_tensor = third_tensor.to(device = 'cpu')\n",
    "            third_tensor_np = third_tensor.numpy()\n",
    "            third_tensor_df = pd.DataFrame(third_tensor_np)\n",
    "            third_tensor_df.columns=[\"y_pred_max\",\"torch.argmax(wine_y,1).unsqueeze(1)\"]\n",
    "            third_tensor_df.to_csv('/home/bartek/third_tensor.csv')"
   ]
  },
  {
   "cell_type": "code",
   "execution_count": 107,
   "metadata": {},
   "outputs": [],
   "source": [
    "with torch.no_grad():\n",
    "    def test(val_loader,avg_y):\n",
    "        for wine_x, wine_y in val_loader:\n",
    "            batch_size = wine_x.shape[0]\n",
    "            y_pred = model(wine_x.view(batch_size,-1))\n",
    "            loss = criterion(y_pred,wine_y)\n",
    "\n",
    "        y_pred_max=torch.argmax(y_pred, dim=1).unsqueeze(1).to(device='cuda')\n",
    "        y_pred_onehot=torch.zeros(y_pred_max.shape[0],10).to(device='cuda')\n",
    "        y_pred_onehot.scatter_(1,y_pred_max,1)\n",
    "        bledy = sum(sum(torch.abs(y_pred_onehot-wine_y)))/2\n",
    "\n",
    "        print(\"loss = %d, blad = %d\" % (int(loss.item()), int(bledy.item())))\n",
    "        print(\"avg loss = %f%%\" % (int(loss.item())/y_pred_max.shape[0]/avg_y*100))"
   ]
  },
  {
   "cell_type": "code",
   "execution_count": 108,
   "metadata": {},
   "outputs": [
    {
     "name": "stdout",
     "output_type": "stream",
     "text": [
      "epoch = 0, loss = 1860, blad = 1338\n",
      "epoch = 2, loss = 1009, blad = 763\n",
      "epoch = 3, loss = 925, blad = 712\n",
      "epoch = 4, loss = 888, blad = 667\n",
      "epoch = 20, loss = 784, blad = 583\n",
      "epoch = 40, loss = 730, blad = 552\n",
      "epoch = 60, loss = 716, blad = 527\n",
      "epoch = 80, loss = 707, blad = 505\n",
      "epoch = 100, loss = 700, blad = 506\n",
      "epoch = 120, loss = 694, blad = 506\n",
      "epoch = 140, loss = 689, blad = 505\n",
      "epoch = 160, loss = 684, blad = 498\n",
      "epoch = 180, loss = 679, blad = 503\n",
      "epoch = 200, loss = 674, blad = 497\n",
      "epoch = 220, loss = 670, blad = 496\n",
      "epoch = 240, loss = 665, blad = 494\n",
      "epoch = 260, loss = 661, blad = 492\n",
      "epoch = 280, loss = 657, blad = 491\n",
      "epoch = 299, loss = 653, blad = 490\n",
      "avg loss = 8.525523%\n"
     ]
    }
   ],
   "source": [
    "n_epoch = 300\n",
    "train(n_epoch,train_loader,avg_y)"
   ]
  },
  {
   "cell_type": "code",
   "execution_count": 109,
   "metadata": {},
   "outputs": [
    {
     "name": "stdout",
     "output_type": "stream",
     "text": [
      "loss = 120, blad = 94\n",
      "avg loss = 8.871505%\n"
     ]
    }
   ],
   "source": [
    "test(val_loader,avg_y)"
   ]
  },
  {
   "cell_type": "code",
   "execution_count": null,
   "metadata": {},
   "outputs": [],
   "source": []
  }
 ],
 "metadata": {
  "kernelspec": {
   "display_name": "Python 3",
   "language": "python",
   "name": "python3"
  },
  "language_info": {
   "codemirror_mode": {
    "name": "ipython",
    "version": 3
   },
   "file_extension": ".py",
   "mimetype": "text/x-python",
   "name": "python",
   "nbconvert_exporter": "python",
   "pygments_lexer": "ipython3",
   "version": "3.8.3"
  }
 },
 "nbformat": 4,
 "nbformat_minor": 4
}
