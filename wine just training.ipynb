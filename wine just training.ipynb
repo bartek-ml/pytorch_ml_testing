{
 "cells": [
  {
   "cell_type": "code",
   "execution_count": 1,
   "metadata": {},
   "outputs": [],
   "source": [
    "import numpy as np\n",
    "import torch\n",
    "torch.set_printoptions(edgeitems=5, precision=2, linewidth=75)"
   ]
  },
  {
   "cell_type": "code",
   "execution_count": 2,
   "metadata": {},
   "outputs": [],
   "source": [
    "import csv\n",
    "wine_path = \"/home/bartek/dlwpt-code-master/data/p1ch4/tabular-wine/winequality-white.csv\"\n",
    "wine_numpy = np.loadtxt(wine_path, dtype=np.float32, delimiter=\";\",skiprows=1)"
   ]
  },
  {
   "cell_type": "code",
   "execution_count": 3,
   "metadata": {},
   "outputs": [],
   "source": [
    "col_list = next(csv.reader(open(wine_path),delimiter=\";\"))"
   ]
  },
  {
   "cell_type": "code",
   "execution_count": 4,
   "metadata": {},
   "outputs": [],
   "source": [
    "wineq=torch.from_numpy(wine_numpy)"
   ]
  },
  {
   "cell_type": "code",
   "execution_count": 5,
   "metadata": {},
   "outputs": [],
   "source": [
    "data=wineq[:,:-1]"
   ]
  },
  {
   "cell_type": "code",
   "execution_count": 6,
   "metadata": {},
   "outputs": [],
   "source": [
    "target=wineq[:,-1]"
   ]
  },
  {
   "cell_type": "code",
   "execution_count": 7,
   "metadata": {},
   "outputs": [],
   "source": [
    "target=target.long()"
   ]
  },
  {
   "cell_type": "code",
   "execution_count": 8,
   "metadata": {},
   "outputs": [],
   "source": [
    "target_onehot=torch.zeros(target.shape[0],10)"
   ]
  },
  {
   "cell_type": "code",
   "execution_count": 9,
   "metadata": {},
   "outputs": [],
   "source": [
    "target=target.unsqueeze(1)"
   ]
  },
  {
   "cell_type": "code",
   "execution_count": 10,
   "metadata": {},
   "outputs": [
    {
     "data": {
      "text/plain": [
       "tensor([[0., 0., 0., 0., 0., 0., 1., 0., 0., 0.],\n",
       "        [0., 0., 0., 0., 0., 0., 1., 0., 0., 0.],\n",
       "        [0., 0., 0., 0., 0., 0., 1., 0., 0., 0.],\n",
       "        [0., 0., 0., 0., 0., 0., 1., 0., 0., 0.],\n",
       "        [0., 0., 0., 0., 0., 0., 1., 0., 0., 0.],\n",
       "        ...,\n",
       "        [0., 0., 0., 0., 0., 0., 1., 0., 0., 0.],\n",
       "        [0., 0., 0., 0., 0., 1., 0., 0., 0., 0.],\n",
       "        [0., 0., 0., 0., 0., 0., 1., 0., 0., 0.],\n",
       "        [0., 0., 0., 0., 0., 0., 0., 1., 0., 0.],\n",
       "        [0., 0., 0., 0., 0., 0., 1., 0., 0., 0.]])"
      ]
     },
     "execution_count": 10,
     "metadata": {},
     "output_type": "execute_result"
    }
   ],
   "source": [
    "target_onehot.scatter_(1,target,1)"
   ]
  },
  {
   "cell_type": "code",
   "execution_count": 11,
   "metadata": {},
   "outputs": [],
   "source": [
    "data_mean=torch.mean(data,dim=0)"
   ]
  },
  {
   "cell_type": "code",
   "execution_count": 12,
   "metadata": {},
   "outputs": [],
   "source": [
    "data_var=torch.var(data,dim=0)"
   ]
  },
  {
   "cell_type": "code",
   "execution_count": 13,
   "metadata": {},
   "outputs": [],
   "source": [
    "data_normalized=(data-data_mean)/torch.sqrt(data_var)"
   ]
  },
  {
   "cell_type": "code",
   "execution_count": 14,
   "metadata": {},
   "outputs": [
    {
     "data": {
      "text/plain": [
       "torch.Size([4898, 11])"
      ]
     },
     "execution_count": 14,
     "metadata": {},
     "output_type": "execute_result"
    }
   ],
   "source": [
    "data_normalized.shape"
   ]
  },
  {
   "cell_type": "code",
   "execution_count": 15,
   "metadata": {},
   "outputs": [],
   "source": [
    "x = data_normalized.clone().detach().requires_grad_(True)"
   ]
  },
  {
   "cell_type": "code",
   "execution_count": 16,
   "metadata": {},
   "outputs": [],
   "source": [
    "x = x.to(device='cuda')"
   ]
  },
  {
   "cell_type": "code",
   "execution_count": 17,
   "metadata": {},
   "outputs": [],
   "source": [
    "y = target_onehot.clone().detach().requires_grad_(True)"
   ]
  },
  {
   "cell_type": "code",
   "execution_count": 18,
   "metadata": {},
   "outputs": [],
   "source": [
    "y = y.to(device = 'cuda')"
   ]
  },
  {
   "cell_type": "code",
   "execution_count": 19,
   "metadata": {},
   "outputs": [],
   "source": [
    "from torch.utils.data import DataLoader, TensorDataset, random_split\n",
    "dataset = TensorDataset(x, y)"
   ]
  },
  {
   "cell_type": "code",
   "execution_count": 20,
   "metadata": {},
   "outputs": [],
   "source": [
    "train_ds, val_ds = random_split(dataset,[3000,1898])\n",
    "batch_size=50\n",
    "train_loader = DataLoader(train_ds,batch_size,shuffle=True)\n",
    "val_loader = DataLoader(train_ds,batch_size)"
   ]
  },
  {
   "cell_type": "code",
   "execution_count": 63,
   "metadata": {},
   "outputs": [],
   "source": [
    "import torch.nn as nn\n",
    "import torch.nn.functional as F"
   ]
  },
  {
   "cell_type": "code",
   "execution_count": 958,
   "metadata": {},
   "outputs": [],
   "source": [
    "class Net(nn.Module):\n",
    "    def __init__(self):\n",
    "        \n",
    "        self.device = torch.device(\"cuda\")\n",
    "        super(Net, self).__init__()\n",
    "        self.input_linear=nn.Linear(11,25)\n",
    "        self.midle_linear1=nn.Linear(25,50)\n",
    "#         self.midle_linear2=nn.Linear(100,100)\n",
    "#         self.midle_linear3=nn.Linear(100,100)\n",
    "#         self.midle_linear4=nn.Linear(100,100)\n",
    "#         self.midle_linear5=nn.Linear(100,100)\n",
    "#         self.midle_linear6=nn.Linear(100,100)        \n",
    "#         self.midle_linear7=nn.Linear(100,100)        \n",
    "        self.midle_linear9=nn.Linear(50,25)\n",
    "        self.output_linear=nn.Linear(25,10)\n",
    "    \n",
    "    def forward(self, x):\n",
    "        h_relu = self.input_linear(x)\n",
    "        h_relu = torch.relu(self.midle_linear1(h_relu))\n",
    "#         h_relu = self.midle_linear2(h_relu)\n",
    "#         h_relu = self.midle_linear3(h_relu)\n",
    "#         h_relu = self.midle_linear4(h_relu)\n",
    "#         h_relu = self.midle_linear5(h_relu)\n",
    "#         h_relu = self.midle_linear6(h_relu)\n",
    "#         h_relu = self.midle_linear7(h_relu)\n",
    "        h_relu = torch.relu(self.midle_linear9(h_relu))\n",
    "        y_pred = self.output_linear(h_relu)\n",
    "#         h_relu = torch.relu(self.input_linear(x))\n",
    "#         h_relu = torch.relu(self.midle_linear1(h_relu))\n",
    "#         h_relu = torch.relu(self.midle_linear2(h_relu))\n",
    "#         h_relu = torch.relu(self.midle_linear3(h_relu))\n",
    "#         h_relu = torch.relu(self.midle_linear4(h_relu))\n",
    "#         y_pred = self.output_linear(h_relu)\n",
    "\n",
    "        return y_pred"
   ]
  },
  {
   "cell_type": "code",
   "execution_count": 959,
   "metadata": {},
   "outputs": [],
   "source": [
    "model = Net().to(device=\"cuda\")\n",
    "criterion = torch.nn.MSELoss(reduction='sum')\n",
    "optimizer = torch.optim.SGD(model.parameters(), lr=0.0001)"
   ]
  },
  {
   "cell_type": "code",
   "execution_count": 960,
   "metadata": {},
   "outputs": [
    {
     "name": "stdout",
     "output_type": "stream",
     "text": [
      "9 3190.336181640625\n",
      "19 3019.03271484375\n",
      "29 2944.467041015625\n",
      "39 2919.28076171875\n",
      "49 2991.9296875\n",
      "59 2893.0966796875\n",
      "69 2939.545166015625\n",
      "79 2898.586669921875\n",
      "89 2889.372314453125\n",
      "99 2887.887939453125\n"
     ]
    }
   ],
   "source": [
    "for t in range(100):\n",
    "    y_pred = model(x)\n",
    "    loss = criterion(y_pred,y)\n",
    "    if t%10 == 9:\n",
    "        print(t, loss.item())\n",
    "    \n",
    "    optimizer.zero_grad()\n",
    "    loss.backward()\n",
    "    optimizer.step()"
   ]
  },
  {
   "cell_type": "code",
   "execution_count": 961,
   "metadata": {},
   "outputs": [],
   "source": [
    "wynik = torch.argmax(y_pred, 1).unsqueeze(1)"
   ]
  },
  {
   "cell_type": "code",
   "execution_count": 962,
   "metadata": {},
   "outputs": [],
   "source": [
    "target = target.to(device='cuda')"
   ]
  },
  {
   "cell_type": "code",
   "execution_count": 963,
   "metadata": {},
   "outputs": [],
   "source": [
    "import math\n",
    "roznica=wynik-target"
   ]
  },
  {
   "cell_type": "code",
   "execution_count": 964,
   "metadata": {},
   "outputs": [],
   "source": [
    "blad=sum(torch.abs(roznica))"
   ]
  },
  {
   "cell_type": "code",
   "execution_count": 965,
   "metadata": {},
   "outputs": [
    {
     "data": {
      "text/plain": [
       "tensor([2509], device='cuda:0')"
      ]
     },
     "execution_count": 965,
     "metadata": {},
     "output_type": "execute_result"
    }
   ],
   "source": [
    "blad"
   ]
  },
  {
   "cell_type": "code",
   "execution_count": 966,
   "metadata": {},
   "outputs": [],
   "source": [
    "zero, jeden, dwa, trzy, cztery, _jeden, _dwa, _trzy, _cztery = 0,0,0,0,0,0,0,0,0"
   ]
  },
  {
   "cell_type": "code",
   "execution_count": 967,
   "metadata": {},
   "outputs": [],
   "source": [
    "for i in range(4898):\n",
    "    if roznica1[i]==0 :  zero += 1\n",
    "    elif roznica1[i]==1:  jeden += 1\n",
    "    elif roznica1[i]==2:  dwa += 1\n",
    "    elif roznica1[i]==3:  trzy += 1\n",
    "    elif roznica1[i]==4:  cztery += 1\n",
    "    elif roznica1[i]==-3:  _cztery += 1        \n",
    "    elif roznica1[i]==-1: _jeden += 1\n",
    "    elif roznica1[i]==-2: _dwa += 1\n",
    "    elif roznica1[i]==-3: _trzy += 1"
   ]
  },
  {
   "cell_type": "code",
   "execution_count": 968,
   "metadata": {},
   "outputs": [
    {
     "name": "stdout",
     "output_type": "stream",
     "text": [
      "5 20 110 1137 2610 907 107 0 2\n"
     ]
    }
   ],
   "source": [
    "print(cztery,trzy,dwa,jeden,zero, _jeden, _dwa, _trzy,_cztery)"
   ]
  },
  {
   "cell_type": "code",
   "execution_count": 969,
   "metadata": {},
   "outputs": [
    {
     "data": {
      "text/plain": [
       "4898"
      ]
     },
     "execution_count": 969,
     "metadata": {},
     "output_type": "execute_result"
    }
   ],
   "source": [
    "zero+ jeden+ dwa+ trzy+ _jeden+ _dwa+ _trzy+_cztery+cztery"
   ]
  },
  {
   "cell_type": "code",
   "execution_count": 970,
   "metadata": {},
   "outputs": [
    {
     "name": "stdout",
     "output_type": "stream",
     "text": [
      "torch.Size([4898, 1]) torch.Size([4898, 1])\n"
     ]
    }
   ],
   "source": [
    "#dodać batch\n",
    "print(wynik.shape,target.shape)"
   ]
  },
  {
   "cell_type": "code",
   "execution_count": 971,
   "metadata": {},
   "outputs": [],
   "source": [
    "third_tensor = torch.cat((wynik, target), 1)"
   ]
  },
  {
   "cell_type": "code",
   "execution_count": 972,
   "metadata": {},
   "outputs": [],
   "source": [
    "third_tensor = third_tensor.to(device = 'cpu')"
   ]
  },
  {
   "cell_type": "code",
   "execution_count": 973,
   "metadata": {},
   "outputs": [],
   "source": [
    "import torch\n",
    "import pandas as pd\n",
    "import numpy as np\n",
    "\n",
    "third_tensor_np = third_tensor.numpy()\n",
    "third_tensor_df = pd.DataFrame(third_tensor_np)\n",
    "third_tensor_df.columns=[\"wynik\",\"target\"]\n",
    "third_tensor_df.to_csv('/home/bartek/third_tensor.csv')\n"
   ]
  },
  {
   "cell_type": "code",
   "execution_count": null,
   "metadata": {},
   "outputs": [],
   "source": []
  }
 ],
 "metadata": {
  "kernelspec": {
   "display_name": "Python 3",
   "language": "python",
   "name": "python3"
  },
  "language_info": {
   "codemirror_mode": {
    "name": "ipython",
    "version": 3
   },
   "file_extension": ".py",
   "mimetype": "text/x-python",
   "name": "python",
   "nbconvert_exporter": "python",
   "pygments_lexer": "ipython3",
   "version": "3.8.3"
  }
 },
 "nbformat": 4,
 "nbformat_minor": 4
}
