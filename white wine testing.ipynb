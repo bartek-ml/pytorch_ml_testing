{
 "cells": [
  {
   "cell_type": "code",
   "execution_count": 1,
   "metadata": {},
   "outputs": [],
   "source": [
    "import numpy as np\n",
    "import pandas as pd\n",
    "import torch\n",
    "import csv\n",
    "import torch.nn as nn\n",
    "import torch.nn.functional as F\n",
    "from torch.utils.data import DataLoader, TensorDataset, random_split\n",
    "torch.set_printoptions(edgeitems=5, precision=2, linewidth=75)"
   ]
  },
  {
   "cell_type": "code",
   "execution_count": 2,
   "metadata": {},
   "outputs": [],
   "source": [
    "wine_path = \"/home/bartek/dlwpt-code-master/data/p1ch4/tabular-wine/winequality-white.csv\"\n",
    "wine_numpy = np.loadtxt(wine_path, dtype=np.float32, delimiter=\";\",skiprows=1)"
   ]
  },
  {
   "cell_type": "code",
   "execution_count": 3,
   "metadata": {},
   "outputs": [],
   "source": [
    "col_list = next(csv.reader(open(wine_path),delimiter=\";\"))\n",
    "\n",
    "wineq=torch.from_numpy(wine_numpy)\n",
    "data=wineq[:,:-1]\n",
    "target=wineq[:,-1]\n",
    "target=target.long()\n",
    "\n",
    "target_onehot=torch.zeros(target.shape[0],10)\n",
    "target_onehot=torch.zeros(target.shape[0],10)\n",
    "target=target.unsqueeze(1)\n",
    "target_onehot.scatter_(1,target,1)\n",
    "\n",
    "data_mean=torch.mean(data,dim=0)\n",
    "data_var=torch.var(data,dim=0)\n",
    "data_normalized=(data-data_mean)/torch.sqrt(data_var)\n",
    "data_normalized.shape\n",
    "\n",
    "x = data_normalized.clone().detach().requires_grad_(True)\n",
    "x = x.to(device='cuda')\n",
    "\n",
    "y = target_onehot.clone().detach().requires_grad_(True)\n",
    "y = y.to(device = 'cuda')"
   ]
  },
  {
   "cell_type": "code",
   "execution_count": 4,
   "metadata": {},
   "outputs": [],
   "source": [
    "avg_y =sum(target)/len(target)"
   ]
  },
  {
   "cell_type": "code",
   "execution_count": 5,
   "metadata": {},
   "outputs": [],
   "source": [
    "dataset = TensorDataset(x, y)\n",
    "train_ds, val_ds = torch.utils.data.random_split(dataset,[4000,898])\n",
    "batch_size=4898\n",
    "train_loader = DataLoader(train_ds,batch_size,shuffle=False)\n",
    "val_loader = DataLoader(val_ds,batch_size)"
   ]
  },
  {
   "cell_type": "code",
   "execution_count": 6,
   "metadata": {},
   "outputs": [],
   "source": [
    "class Net(nn.Module):\n",
    "    def __init__(self):\n",
    "        \n",
    "        self.device = torch.device(\"cuda\")\n",
    "        super(Net, self).__init__()\n",
    "        self.input_linear=nn.Linear(11,25)\n",
    "        self.midle_linear1=nn.Linear(25,50)\n",
    "        self.midle_linear9=nn.Linear(50,25)\n",
    "        self.output_linear=nn.Linear(25,10)\n",
    "    \n",
    "    def forward(self, x):\n",
    "        h_relu = self.input_linear(x)\n",
    "        h_relu = torch.relu(self.midle_linear1(h_relu))\n",
    "        h_relu = torch.relu(self.midle_linear9(h_relu))\n",
    "        y_pred = self.output_linear(h_relu)\n",
    "\n",
    "        return y_pred"
   ]
  },
  {
   "cell_type": "code",
   "execution_count": 7,
   "metadata": {},
   "outputs": [],
   "source": [
    "model = Net().to(device=\"cuda\")\n",
    "criterion = torch.nn.MSELoss(reduction='sum')\n",
    "optimizer = torch.optim.SGD(model.parameters(), lr=0.0001)"
   ]
  },
  {
   "cell_type": "code",
   "execution_count": 8,
   "metadata": {},
   "outputs": [],
   "source": [
    "pozytywne = 0\n",
    "suma = 0\n",
    "target = target.to(device='cuda')"
   ]
  },
  {
   "cell_type": "code",
   "execution_count": 9,
   "metadata": {},
   "outputs": [],
   "source": [
    "def train(n_epoch,train_loader, avg_y):\n",
    "    for epoch in range(n_epoch):\n",
    "        for wine_x, wine_y in train_loader:\n",
    "            batch_size = wine_x.shape[0]\n",
    "            y_pred = model(wine_x.view(batch_size,-1))\n",
    "            loss = criterion(y_pred,wine_y)\n",
    "\n",
    "            optimizer.zero_grad()\n",
    "            loss.backward()\n",
    "            optimizer.step()\n",
    "\n",
    "        y_pred_max=torch.argmax(y_pred, dim=1).unsqueeze(1).to(device='cuda')\n",
    "        y_pred_onehot=torch.zeros(y_pred_max.shape[0],10).to(device='cuda')\n",
    "        y_pred_onehot.scatter_(1,y_pred_max,1)\n",
    "        bledy = sum(sum(torch.abs(y_pred_onehot-wine_y)))/2\n",
    "\n",
    "        if epoch%5 == 0 or epoch == n_epoch-1:\n",
    "            print(\"epoch = %d, loss = %d, blad = %d\" % (epoch, int(loss.item()), int(bledy.item())))\n",
    "        if epoch == n_epoch-1:\n",
    "            print(\"avg loss = %f%%\" % (int(loss.item())/y_pred_max.shape[0]/avg_y*100))\n",
    "            third_tensor = torch.cat((y_pred_max, torch.argmax(wine_y,1).unsqueeze(1)), 1)\n",
    "            third_tensor = third_tensor.to(device = 'cpu')\n",
    "            third_tensor_np = third_tensor.numpy()\n",
    "            third_tensor_df = pd.DataFrame(third_tensor_np)\n",
    "            third_tensor_df.columns=[\"y_pred_max\",\"torch.argmax(wine_y,1).unsqueeze(1)\"]\n",
    "            third_tensor_df.to_csv('/home/bartek/third_tensor.csv')"
   ]
  },
  {
   "cell_type": "code",
   "execution_count": 10,
   "metadata": {},
   "outputs": [],
   "source": [
    "with torch.no_grad():\n",
    "    def test(val_loader,avg_y):\n",
    "        for wine_x, wine_y in val_loader:\n",
    "            batch_size = wine_x.shape[0]\n",
    "            y_pred = model(wine_x.view(batch_size,-1))\n",
    "            loss = criterion(y_pred,wine_y)\n",
    "\n",
    "        y_pred_max=torch.argmax(y_pred, dim=1).unsqueeze(1).to(device='cuda')\n",
    "        y_pred_onehot=torch.zeros(y_pred_max.shape[0],10).to(device='cuda')\n",
    "        y_pred_onehot.scatter_(1,y_pred_max,1)\n",
    "        bledy = sum(sum(torch.abs(y_pred_onehot-wine_y)))/2\n",
    "\n",
    "        print(\"loss = %d, blad = %d\" % (int(loss.item()), int(bledy.item())))\n",
    "        print(\"avg loss = %f%%\" % (int(loss.item())/y_pred_max.shape[0]/avg_y*100))"
   ]
  },
  {
   "cell_type": "code",
   "execution_count": 11,
   "metadata": {},
   "outputs": [
    {
     "name": "stdout",
     "output_type": "stream",
     "text": [
      "epoch = 0, loss = 4094, blad = 3623\n",
      "epoch = 5, loss = 2604, blad = 2200\n",
      "epoch = 10, loss = 2525, blad = 1989\n",
      "epoch = 15, loss = 2473, blad = 1908\n",
      "epoch = 20, loss = 2438, blad = 1883\n",
      "epoch = 25, loss = 2415, blad = 1870\n",
      "epoch = 29, loss = 2400, blad = 1845\n",
      "avg loss = 10.207712%\n"
     ]
    }
   ],
   "source": [
    "n_epoch = 30\n",
    "train(n_epoch,train_loader,avg_y)"
   ]
  },
  {
   "cell_type": "code",
   "execution_count": 12,
   "metadata": {},
   "outputs": [
    {
     "name": "stdout",
     "output_type": "stream",
     "text": [
      "loss = 542, blad = 412\n",
      "avg loss = 10.268336%\n"
     ]
    }
   ],
   "source": [
    "test(val_loader,avg_y)"
   ]
  }
 ],
 "metadata": {
  "kernelspec": {
   "display_name": "Python 3",
   "language": "python",
   "name": "python3"
  },
  "language_info": {
   "codemirror_mode": {
    "name": "ipython",
    "version": 3
   },
   "file_extension": ".py",
   "mimetype": "text/x-python",
   "name": "python",
   "nbconvert_exporter": "python",
   "pygments_lexer": "ipython3",
   "version": "3.8.3"
  }
 },
 "nbformat": 4,
 "nbformat_minor": 4
}
